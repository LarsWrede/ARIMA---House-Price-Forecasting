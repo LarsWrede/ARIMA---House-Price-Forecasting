{
 "cells": [
  {
   "cell_type": "markdown",
   "id": "c8397bec",
   "metadata": {},
   "source": [
    "# 2. Basic Data Description and Preliminary Studies"
   ]
  },
  {
   "cell_type": "markdown",
   "id": "77a685a1",
   "metadata": {},
   "source": [
    "## Import Packages"
   ]
  },
  {
   "cell_type": "code",
   "execution_count": 65,
   "id": "fabef2d9",
   "metadata": {},
   "outputs": [],
   "source": [
    "import pandas as pd\n",
    "import numpy as np\n",
    "import matplotlib.pyplot as plt\n",
    "import seaborn as sns"
   ]
  },
  {
   "cell_type": "markdown",
   "id": "3e39a9cb",
   "metadata": {},
   "source": [
    "## Importing Data"
   ]
  },
  {
   "cell_type": "code",
   "execution_count": 76,
   "id": "4a50fe00",
   "metadata": {},
   "outputs": [
    {
     "data": {
      "text/html": [
       "<div>\n",
       "<style scoped>\n",
       "    .dataframe tbody tr th:only-of-type {\n",
       "        vertical-align: middle;\n",
       "    }\n",
       "\n",
       "    .dataframe tbody tr th {\n",
       "        vertical-align: top;\n",
       "    }\n",
       "\n",
       "    .dataframe thead th {\n",
       "        text-align: right;\n",
       "    }\n",
       "</style>\n",
       "<table border=\"1\" class=\"dataframe\">\n",
       "  <thead>\n",
       "    <tr style=\"text-align: right;\">\n",
       "      <th></th>\n",
       "      <th>Date</th>\n",
       "      <th>MIA</th>\n",
       "      <th>MSP</th>\n",
       "      <th>LAS</th>\n",
       "    </tr>\n",
       "  </thead>\n",
       "  <tbody>\n",
       "    <tr>\n",
       "      <th>0</th>\n",
       "      <td>2008-02-02</td>\n",
       "      <td>270000.0</td>\n",
       "      <td>237000.0</td>\n",
       "      <td>265000.0</td>\n",
       "    </tr>\n",
       "    <tr>\n",
       "      <th>1</th>\n",
       "      <td>2008-02-09</td>\n",
       "      <td>270000.0</td>\n",
       "      <td>215000.0</td>\n",
       "      <td>276831.0</td>\n",
       "    </tr>\n",
       "    <tr>\n",
       "      <th>2</th>\n",
       "      <td>2008-02-16</td>\n",
       "      <td>260000.0</td>\n",
       "      <td>215000.0</td>\n",
       "      <td>265040.0</td>\n",
       "    </tr>\n",
       "    <tr>\n",
       "      <th>3</th>\n",
       "      <td>2008-02-23</td>\n",
       "      <td>268500.0</td>\n",
       "      <td>215000.0</td>\n",
       "      <td>261000.0</td>\n",
       "    </tr>\n",
       "    <tr>\n",
       "      <th>4</th>\n",
       "      <td>2008-03-01</td>\n",
       "      <td>273000.0</td>\n",
       "      <td>219400.0</td>\n",
       "      <td>273000.0</td>\n",
       "    </tr>\n",
       "    <tr>\n",
       "      <th>...</th>\n",
       "      <td>...</td>\n",
       "      <td>...</td>\n",
       "      <td>...</td>\n",
       "      <td>...</td>\n",
       "    </tr>\n",
       "    <tr>\n",
       "      <th>698</th>\n",
       "      <td>2021-06-19</td>\n",
       "      <td>370000.0</td>\n",
       "      <td>345000.0</td>\n",
       "      <td>369900.0</td>\n",
       "    </tr>\n",
       "    <tr>\n",
       "      <th>699</th>\n",
       "      <td>2021-06-26</td>\n",
       "      <td>353000.0</td>\n",
       "      <td>350000.0</td>\n",
       "      <td>364950.0</td>\n",
       "    </tr>\n",
       "    <tr>\n",
       "      <th>700</th>\n",
       "      <td>2021-07-03</td>\n",
       "      <td>365000.0</td>\n",
       "      <td>349950.0</td>\n",
       "      <td>365000.0</td>\n",
       "    </tr>\n",
       "    <tr>\n",
       "      <th>701</th>\n",
       "      <td>2021-07-10</td>\n",
       "      <td>360000.0</td>\n",
       "      <td>343500.0</td>\n",
       "      <td>365000.0</td>\n",
       "    </tr>\n",
       "    <tr>\n",
       "      <th>702</th>\n",
       "      <td>2021-07-17</td>\n",
       "      <td>365000.0</td>\n",
       "      <td>350000.0</td>\n",
       "      <td>375000.0</td>\n",
       "    </tr>\n",
       "  </tbody>\n",
       "</table>\n",
       "<p>703 rows × 4 columns</p>\n",
       "</div>"
      ],
      "text/plain": [
       "           Date       MIA       MSP       LAS\n",
       "0    2008-02-02  270000.0  237000.0  265000.0\n",
       "1    2008-02-09  270000.0  215000.0  276831.0\n",
       "2    2008-02-16  260000.0  215000.0  265040.0\n",
       "3    2008-02-23  268500.0  215000.0  261000.0\n",
       "4    2008-03-01  273000.0  219400.0  273000.0\n",
       "..          ...       ...       ...       ...\n",
       "698  2021-06-19  370000.0  345000.0  369900.0\n",
       "699  2021-06-26  353000.0  350000.0  364950.0\n",
       "700  2021-07-03  365000.0  349950.0  365000.0\n",
       "701  2021-07-10  360000.0  343500.0  365000.0\n",
       "702  2021-07-17  365000.0  350000.0  375000.0\n",
       "\n",
       "[703 rows x 4 columns]"
      ]
     },
     "execution_count": 76,
     "metadata": {},
     "output_type": "execute_result"
    }
   ],
   "source": [
    "cities = pd.read_csv(\"cities.csv\")\n",
    "cities.drop(cities.columns[0], axis=1)"
   ]
  },
  {
   "cell_type": "markdown",
   "id": "ed297df6",
   "metadata": {},
   "source": [
    "## 2.1 Statistical Descriptors of Selected Towns"
   ]
  },
  {
   "cell_type": "code",
   "execution_count": null,
   "id": "4839b446",
   "metadata": {},
   "outputs": [],
   "source": []
  },
  {
   "cell_type": "markdown",
   "id": "7b7e02ee",
   "metadata": {},
   "source": [
    "## 2.2 Statistical Descriptors of Time Series"
   ]
  },
  {
   "cell_type": "code",
   "execution_count": 36,
   "id": "6d7d8bd4",
   "metadata": {},
   "outputs": [],
   "source": [
    "stat_desc = pd.DataFrame(\n",
    "   ...:     {\n",
    "   ...:         \"Mean\": [cities.MIA.mean(), cities.MSP.mean(), cities.LAS.mean()],\n",
    "   ...:         \"Minimum\": [cities.MIA.min(), cities.MSP.min(), cities.LAS.min()],\n",
    "   ...:         \"Maximum\": [cities.MIA.max(), cities.MSP.max(), cities.LAS.max()],\n",
    "   ...:         \"Standard deviation\": [cities.MIA.std(), cities.MSP.std(), cities.LAS.std()],\n",
    "   ...:         \"Skewness\": [cities.MIA.skew(), cities.MSP.skew(), cities.LAS.skew()],\n",
    "   ...:         \"Kurtosis\": [cities.MIA.kurt(), cities.MSP.kurt(), cities.LAS.kurt()],\n",
    "   ...:     }, index = [\"Miami\", \"Minneapolis\", \"Las Vegas\"]\n",
    "   ...: )"
   ]
  },
  {
   "cell_type": "code",
   "execution_count": 37,
   "id": "920c73cd",
   "metadata": {},
   "outputs": [
    {
     "data": {
      "text/html": [
       "<div>\n",
       "<style scoped>\n",
       "    .dataframe tbody tr th:only-of-type {\n",
       "        vertical-align: middle;\n",
       "    }\n",
       "\n",
       "    .dataframe tbody tr th {\n",
       "        vertical-align: top;\n",
       "    }\n",
       "\n",
       "    .dataframe thead th {\n",
       "        text-align: right;\n",
       "    }\n",
       "</style>\n",
       "<table border=\"1\" class=\"dataframe\">\n",
       "  <thead>\n",
       "    <tr style=\"text-align: right;\">\n",
       "      <th></th>\n",
       "      <th>Mean</th>\n",
       "      <th>Minimum</th>\n",
       "      <th>Maximum</th>\n",
       "      <th>Standard deviation</th>\n",
       "      <th>Skewness</th>\n",
       "      <th>Kurtosis</th>\n",
       "    </tr>\n",
       "  </thead>\n",
       "  <tbody>\n",
       "    <tr>\n",
       "      <th>Miami</th>\n",
       "      <td>234492.315789</td>\n",
       "      <td>130000.0</td>\n",
       "      <td>370000.0</td>\n",
       "      <td>56753.245599</td>\n",
       "      <td>0.136726</td>\n",
       "      <td>-0.880135</td>\n",
       "    </tr>\n",
       "    <tr>\n",
       "      <th>Minneapolis</th>\n",
       "      <td>225609.712660</td>\n",
       "      <td>148300.0</td>\n",
       "      <td>350000.0</td>\n",
       "      <td>44597.647126</td>\n",
       "      <td>0.657073</td>\n",
       "      <td>-0.290759</td>\n",
       "    </tr>\n",
       "    <tr>\n",
       "      <th>Las Vegas</th>\n",
       "      <td>222657.722617</td>\n",
       "      <td>121000.0</td>\n",
       "      <td>375000.0</td>\n",
       "      <td>64157.594755</td>\n",
       "      <td>0.232853</td>\n",
       "      <td>-1.047480</td>\n",
       "    </tr>\n",
       "  </tbody>\n",
       "</table>\n",
       "</div>"
      ],
      "text/plain": [
       "                      Mean   Minimum   Maximum  Standard deviation  Skewness  \\\n",
       "Miami        234492.315789  130000.0  370000.0        56753.245599  0.136726   \n",
       "Minneapolis  225609.712660  148300.0  350000.0        44597.647126  0.657073   \n",
       "Las Vegas    222657.722617  121000.0  375000.0        64157.594755  0.232853   \n",
       "\n",
       "             Kurtosis  \n",
       "Miami       -0.880135  \n",
       "Minneapolis -0.290759  \n",
       "Las Vegas   -1.047480  "
      ]
     },
     "execution_count": 37,
     "metadata": {},
     "output_type": "execute_result"
    }
   ],
   "source": [
    "stat_desc"
   ]
  },
  {
   "cell_type": "code",
   "execution_count": 61,
   "id": "2ce87b64",
   "metadata": {},
   "outputs": [
    {
     "data": {
      "text/plain": [
       "Text(0.5, 1.0, 'Las Vegas')"
      ]
     },
     "execution_count": 61,
     "metadata": {},
     "output_type": "execute_result"
    },
    {
     "data": {
      "image/png": "[encoded data removed]",
      "text/plain": [
       "<Figure size 1296x720 with 3 Axes>"
      ]
     },
     "metadata": {},
     "output_type": "display_data"
    }
   ],
   "source": [
    "    # Plot Time Series\n",
    "    fig, axes = plt.subplots(3, figsize=(18, 10),sharex=True)\n",
    "    plt.style.use(\"ggplot\")\n",
    "    \n",
    "    axes[0].hist(cities.MIA, bins=20, density = True, color = \"tab:blue\")\n",
    "    axes[0].set_ylabel(\"Count\")\n",
    "    axes[0].set_title(\"Miami\")\n",
    "    \n",
    "    axes[1].hist(cities.MSP, bins=20, density = False, color = \"tab:orange\")\n",
    "    axes[1].set_ylabel(\"Count\")\n",
    "    axes[1].set_title(\"Minneapolis\")\n",
    "    \n",
    "    axes[2].hist(cities.LAS, bins=20, density = False, color = \"tab:olive\")\n",
    "    axes[2].set_ylabel(\"Count\")\n",
    "    axes[2].set_title(\"Las Vegas\")"
   ]
  },
  {
   "cell_type": "code",
   "execution_count": 69,
   "id": "24dc8bb6",
   "metadata": {},
   "outputs": [
    {
     "data": {
      "text/plain": [
       "<AxesSubplot:>"
      ]
     },
     "execution_count": 69,
     "metadata": {},
     "output_type": "execute_result"
    },
    {
     "data": {
      "image/png": "[encoded data removed]",
      "text/plain": [
       "<Figure size 432x288 with 1 Axes>"
      ]
     },
     "metadata": {},
     "output_type": "display_data"
    }
   ],
   "source": [
    "cities.plot(kind='box')"
   ]
  },
  {
   "cell_type": "markdown",
   "id": "0d46f6a0",
   "metadata": {},
   "source": [
    "## 2.3 Statistical Descriptors of COVID in those Cities"
   ]
  },
  {
   "cell_type": "code",
   "execution_count": null,
   "id": "1b609147",
   "metadata": {},
   "outputs": [],
   "source": []
  }
 ],
 "metadata": {
  "kernelspec": {
   "display_name": "Python 3",
   "language": "python",
   "name": "python3"
  },
  "language_info": {
   "codemirror_mode": {
    "name": "ipython",
    "version": 3
   },
   "file_extension": ".py",
   "mimetype": "text/x-python",
   "name": "python",
   "nbconvert_exporter": "python",
   "pygments_lexer": "ipython3",
   "version": "3.8.8"
  }
 },
 "nbformat": 4,
 "nbformat_minor": 5
}
